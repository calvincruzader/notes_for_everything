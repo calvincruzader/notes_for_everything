{
 "cells": [
  {
   "cell_type": "markdown",
   "metadata": {},
   "source": [
    "# Web Dev Notes "
   ]
  },
  {
   "cell_type": "markdown",
   "metadata": {},
   "source": [
    "One way to think of retrieving a website from your local machine is the following: \n",
    "- from your local client, request a URL from a browser\n",
    "- this request is sent to your ISP\n",
    "- then the URL is sent to a DNS (Domain Name System) and looks up the IP address for that URL\n",
    "- then the ISP goes to the 'Internet Backbone', goes to that address, then the server sends the webpage code back to your browser"
   ]
  },
  {
   "cell_type": "markdown",
   "metadata": {},
   "source": [
    "### Intro to CSS\n",
    "\n",
    "There is a default CSS setting for each web element (hr's, br's, a tags, etc.) \n",
    "- check it out by googling CSS default browser values"
   ]
  },
  {
   "cell_type": "markdown",
   "metadata": {},
   "source": [
    "Important thing to note: Everything that exists on a webpage are essentially boxes"
   ]
  },
  {
   "cell_type": "code",
   "execution_count": null,
   "metadata": {},
   "outputs": [],
   "source": []
  }
 ],
 "metadata": {
  "kernelspec": {
   "display_name": "Javascript (Node.js)",
   "language": "javascript",
   "name": "javascript"
  },
  "language_info": {
   "file_extension": ".js",
   "mimetype": "application/javascript",
   "name": "javascript",
   "version": "11.11.0"
  }
 },
 "nbformat": 4,
 "nbformat_minor": 2
}
