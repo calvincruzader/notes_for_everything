{
 "cells": [
  {
   "cell_type": "markdown",
   "metadata": {},
   "source": [
    "# Spring Power Guide"
   ]
  },
  {
   "cell_type": "markdown",
   "metadata": {},
   "source": [
    "(need to update for the first part of the course)"
   ]
  },
  {
   "cell_type": "markdown",
   "metadata": {},
   "source": [
    "## Hibernate\n",
    "\n",
    "entity class - a Java class that is mapped to a database table\n",
    "\n",
    "map classes to tables and fields/variables to columns \n",
    "\n",
    "SessionFactory class \n",
    "- reads hibernate config files \n",
    "- builds sessionFactory based on configurations and annotated classes\n",
    "- creates sessions based on configs\n",
    "\n",
    "\n",
    "Session\n",
    "- wrapper around JDBC\n",
    "- saves/retrieves objects "
   ]
  },
  {
   "cell_type": "markdown",
   "metadata": {},
   "source": [
    "#### Hibernate Advanced Mappings - Eager vs Lazy Loading (Section 25)"
   ]
  },
  {
   "cell_type": "markdown",
   "metadata": {},
   "source": [
    "Fetch types: \n",
    "\n",
    "(in project hb-eager-vs-lazy-demo) \n",
    "\n",
    "Lazy Loading vs Eager Loading \n",
    "\n",
    "When we fetch/retrieve data, should we retrieve EVERYTHING?\n",
    "\n",
    "Eager loading: retrieve everything\n",
    "\n",
    "Lazy loading: only retrieve on request \n",
    "\n",
    "Best practice: only load data when absolutely needed! prefer lazy loading > eager loading \n",
    "\n",
    "Lazy loading process:\n",
    "- load the main entity first \n",
    "- then load dependent entities on demand \n",
    "    - caveat/problem to this is that it requires an open Hibernate session. If the Hib session is closed, then Hib will throw an exception\n",
    "      \n",
    "Resolve Lazy Loading Issue\n",
    "- option1: call getter method while session is open (com.luv2code.hibernate.demo.EagerLazyDemo)\n",
    "- option2: query with HQL (com.luv2code.hibernate.demo.FetchJoinDemo)"
   ]
  }
 ],
 "metadata": {
  "kernelspec": {
   "display_name": "SciJava",
   "language": "groovy",
   "name": "scijava"
  },
  "language_info": {
   "codemirror_mode": "groovy",
   "file_extension": "",
   "mimetype": "",
   "name": "scijava",
   "nbconverter_exporter": "",
   "pygments_lexer": "groovy",
   "version": "1.0"
  }
 },
 "nbformat": 4,
 "nbformat_minor": 2
}
