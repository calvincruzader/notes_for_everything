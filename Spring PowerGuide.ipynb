{
 "cells": [
  {
   "cell_type": "markdown",
   "metadata": {},
   "source": [
    "# Spring Power Guide"
   ]
  },
  {
   "cell_type": "markdown",
   "metadata": {},
   "source": [
    "(need to update for the first part of the course)"
   ]
  },
  {
   "cell_type": "markdown",
   "metadata": {},
   "source": [
    "## Hibernate\n",
    "\n",
    "entity class - a Java class that is mapped to a database table\n",
    "\n",
    "map classes to tables and fields/variables to columns \n",
    "\n",
    "SessionFactory class \n",
    "- reads hibernate config files \n",
    "- builds sessionFactory based on configurations and annotated classes\n",
    "- creates sessions based on configs\n",
    "\n",
    "\n",
    "Session\n",
    "- wrapper around JDBC\n",
    "- saves/retrieves objects "
   ]
  },
  {
   "cell_type": "markdown",
   "metadata": {},
   "source": [
    "#### Hibernate Advanced Mappings - Eager vs Lazy Loading (Section 25)"
   ]
  },
  {
   "cell_type": "markdown",
   "metadata": {},
   "source": [
    "Fetch types: \n",
    "\n",
    "(in project hb-eager-vs-lazy-demo) \n",
    "\n",
    "Lazy Loading vs Eager Loading \n",
    "\n",
    "When we fetch/retrieve data, should we retrieve EVERYTHING?\n",
    "\n",
    "Eager loading: retrieve everything\n",
    "\n",
    "Lazy loading: only retrieve on request \n",
    "\n",
    "Best practice: only load data when absolutely needed! prefer lazy loading > eager loading \n",
    "\n",
    "Lazy loading process:\n",
    "- load the main entity first \n",
    "- then load dependent entities on demand \n",
    "    - caveat/problem to this is that it requires an open Hibernate session. If the Hib session is closed, then Hib will throw an exception\n",
    "      \n",
    "Resolve Lazy Loading Issue\n",
    "- option1: call getter method while session is open (com.luv2code.hibernate.demo.EagerLazyDemo)\n",
    "- option2: query with HQL (com.luv2code.hibernate.demo.FetchJoinDemo)"
   ]
  },
  {
   "cell_type": "markdown",
   "metadata": {},
   "source": [
    "#### Hibernate Advanced Mappings -@OneToMany - Unidirectional (Section 26) \n",
    "\n",
    "example: reviews for a book do not need to persist if the book is deleted from the db\n",
    "\n",
    "@JoinColumn(name=\"some_id\") - use this annotation above some field (that represents an entity) such that we know what column is the ID that references this entity from that other entity.\n",
    "\n",
    "For example: "
   ]
  },
  {
   "cell_type": "code",
   "execution_count": null,
   "metadata": {},
   "outputs": [],
   "source": [
    "public class Course { \n",
    "    // ... \n",
    "    \n",
    "    @JoinColumn(name=\"course_id\")\n",
    "    private List<Review> reviews;\n",
    "    \n",
    "    // ...\n",
    "}"
   ]
  },
  {
   "cell_type": "markdown",
   "metadata": {},
   "source": [
    "This course (entity and table) will be referenced by reviews and in reviews (in both entity and table), the column which references which course the review is associated to will be 'course_id'"
   ]
  },
  {
   "cell_type": "markdown",
   "metadata": {},
   "source": [
    "Task: create a course and reviews for that course via one-to-many unidirectional mapping and get/delete the course/review from the db/java entity"
   ]
  },
  {
   "attachments": {},
   "cell_type": "markdown",
   "metadata": {},
   "source": [
    "#### Hibernate Advanced Mappings - @ManyToMany \n",
    "\n",
    "example: courses can have many students and vice versa \n",
    "\n",
    "join table - a table that provides a mapping between two tables. Uses foreign keys for each table to define the mapping relationship\n",
    "\n",
    "This is represented in @JoinTable in Hibernate:\n"
   ]
  },
  {
   "cell_type": "code",
   "execution_count": null,
   "metadata": {},
   "outputs": [],
   "source": [
    "public class Course { \n",
    "//...\n",
    "    \n",
    "    @ManyToMany\n",
    "    @JoinTable(name=\"course_student\", \n",
    "               joinColumns=@JoinColumn(name=\"course_id\"), \n",
    "               inverseJoinColumns=@JoinColumn(name=\"student_id\"))\n",
    "    private List<Student> students;\n",
    "    \n",
    "//...\n",
    "}"
   ]
  },
  {
   "cell_type": "code",
   "execution_count": null,
   "metadata": {},
   "outputs": [],
   "source": [
    "public class Student { \n",
    "//...\n",
    "\n",
    "    @ManyToMany\n",
    "    @JoinTable(name=\"course_student\", \n",
    "               joinColumns=@JoinColumn(name=\"student_id\"), \n",
    "               inverseJoinColumns=@JoinColumn(name=\"course_id\"))\n",
    "    private List<Course> courses;\n",
    "//...\n",
    "}"
   ]
  }
 ],
 "metadata": {
  "kernelspec": {
   "display_name": "SciJava",
   "language": "groovy",
   "name": "scijava"
  },
  "language_info": {
   "codemirror_mode": "groovy",
   "file_extension": "",
   "mimetype": "",
   "name": "scijava",
   "nbconverter_exporter": "",
   "pygments_lexer": "groovy",
   "version": "1.0"
  }
 },
 "nbformat": 4,
 "nbformat_minor": 2
}
